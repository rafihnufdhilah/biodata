{
 "cells": [
  {
   "cell_type": "code",
   "execution_count": 2,
   "metadata": {},
   "outputs": [
    {
     "name": "stdout",
     "output_type": "stream",
     "text": [
      "NAMA    :  RAFIH.NURFADHILAH\n",
      "KELAS   :  TI 22E\n",
      "JURUSAN :  INFORMATIKA\n",
      "QUOTES  :  PERBANYAK TURU BIAR BANYAK MIMPI\n"
     ]
    }
   ],
   "source": [
    "nama = (\"RAFIH.NURFADGHILAH\")\n",
    "kelas = (\"TI 22E\")\n",
    "jurusan = (\"INFORMATIKA\")\n",
    "quotes = (\"PERBANYAK TURU BIAR BANYAK MIMPI\")\n",
    "\n",
    "print(\"NAMA    : \",nama)\n",
    "print(\"KELAS   : \",kelas)\n",
    "print(\"JURUSAN : \",jurusan)\n",
    "print(\"QUOTES  : \",quotes)"
   ]
  }
 ],
 "metadata": {
  "kernelspec": {
   "display_name": "Python 3",
   "language": "python",
   "name": "python3"
  },
  "language_info": {
   "codemirror_mode": {
    "name": "ipython",
    "version": 3
   },
   "file_extension": ".py",
   "mimetype": "text/x-python",
   "name": "python",
   "nbconvert_exporter": "python",
   "pygments_lexer": "ipython3",
   "version": "3.8.5"
  }
 },
 "nbformat": 4,
 "nbformat_minor": 4
}
